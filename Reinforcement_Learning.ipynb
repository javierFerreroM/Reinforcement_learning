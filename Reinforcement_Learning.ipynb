{
  "nbformat": 4,
  "nbformat_minor": 0,
  "metadata": {
    "colab": {
      "name": "Reinforcement Learning.ipynb",
      "provenance": [],
      "authorship_tag": "ABX9TyP5YEvO23hBHKBgW/rUViDc",
      "include_colab_link": true
    },
    "kernelspec": {
      "name": "python3",
      "display_name": "Python 3"
    },
    "language_info": {
      "name": "python"
    }
  },
  "cells": [
    {
      "cell_type": "markdown",
      "metadata": {
        "id": "view-in-github",
        "colab_type": "text"
      },
      "source": [
        "<a href=\"https://colab.research.google.com/github/javierFerreroM/Reinforcement_learning/blob/main/Reinforcement_Learning.ipynb\" target=\"_parent\"><img src=\"https://colab.research.google.com/assets/colab-badge.svg\" alt=\"Open In Colab\"/></a>"
      ]
    },
    {
      "cell_type": "code",
      "execution_count": null,
      "metadata": {
        "id": "fjkd8e9M6fdH"
      },
      "outputs": [],
      "source": [
        "#Ref. https://www.gymlibrary.ml/environments/atari/alien/\n",
        "import gym\n",
        "env = gym.make(\"ALE/Alien-v5\")\n",
        "observation, info = env.reset(seed=42, return_info=True)\n",
        "for _ in range(1000):\n",
        "   env.render()\n",
        "   action = policy(observation)  # User-defined policy function\n",
        "   observation, reward, done, info = env.step(action)\n",
        "\n",
        "   if done:\n",
        "      observation, info = env.reset(return_info=True)\n",
        "env.close()"
      ]
    }
  ]
}